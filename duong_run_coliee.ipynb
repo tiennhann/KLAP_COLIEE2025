{
 "cells": [
  {
   "cell_type": "code",
   "execution_count": 1,
   "metadata": {
    "notebookRunGroups": {
     "groupValue": "1"
    }
   },
   "outputs": [
    {
     "name": "stdout",
     "output_type": "stream",
     "text": [
      "======== Generate Angelic structure and Query Entailment: ========\n",
      " To construct the ANGELIC structure based on the provided legal provisions and then analyze the given query, we follow a step-by-step approach.\n",
      "\n",
      "### Step 1: Identify the Root Node (R)\n",
      "The article seeks to establish that if a manager engages in benevolent intervention to help another person avoid imminent danger without acting in bad faith or with gross negligence, the manager is not liable for compensation for any resulting damage. Thus, the root node can be defined as:\n",
      "- **R1**: A manager is not liable for damages when intervening benevolently without bad faith or gross negligence.\n",
      "\n",
      "### Step 2: Derive Abstract Factors (A)\n",
      "The key legal factors that validate this conclusion include:\n",
      "- **A1**: The intervention was made to prevent imminent danger.\n",
      "- **A2**: The intervention was done in good faith and without gross negligence.\n",
      "\n",
      "### Step 3: Refine Abstract Factors into Base-Level Factors (B), if applicable\n",
      "Refining the abstract factors, we have:\n",
      "- **B1** (under A1): The danger was to the person's property.\n",
      "- **B2** (under A1): The danger was imminent and could not be avoided by other means.\n",
      "- **B3** (under A2): The intervenor did not act with gross negligence.\n",
      "\n",
      "### Step 4: Establish Directed Links\n",
      "Given that each factor must have a directed link to another, we establish:\n",
      "- **(A1 supports R1)**: Intervening to prevent danger supports the conclusion of no liability.\n",
      "- **(A2 supports R1)**: Acting in good faith and without gross negligence supports the conclusion of no liability.\n",
      "- **(B1 supports A1)**: Danger to property is a form of imminent danger.\n",
      "- **(B2 supports A1)**: Imminence and lack of alternative actions justify intervention.\n",
      "- **(B3 supports A2)**: Absence of gross negligence is part of acting in good faith.\n",
      "\n",
      "### Justification\n",
      "Given the query about a person rescuing another from being hit by a car, thereby causing damage to a luxury kimono, we analyze:\n",
      "- The scenario involves an imminent danger to the person (not property directly), suggesting it aligns closely with **B2**.\n",
      "- There's no indication of bad faith or gross negligence, implying alignment with **A2** and specifically **B3**.\n",
      "\n",
      "Thus, **(query entails B2)** because both involve preventing imminent physical harm. Additionally, since there's an assumption of good intentions in the query (rescuing someone), it aligns with **(query entails B3)**.\n",
      "\n",
      "### Agreement with Root Node\n",
      "Considering **R1**, which states a manager (or anyone intervening) is not liable for damages if acting without bad faith or gross negligence to prevent imminent danger, and comparing this to the query where an individual rescues another from harm:\n",
      "- The query involves a benevolent act aimed at preventing physical harm, suggesting no liability should be incurred by the rescuer for the damage caused (the dirty kimono), given the context of the provided article.\n",
      "\n",
      "Therefore, **(query agree R1)** because both scenarios conclude that the intervenor is not liable for damages resulting from their actions under similar conditions of benevolence and absence of negligence or bad faith.\n",
      "\n",
      "After re-justification, considering the specific details and applying them to the ANGELIC structure, it's clear that the query aligns with the principles established in Article 698 regarding liability for damage caused during a benevolent intervention. The act described in the query directly relates to preventing imminent danger (supporting **B2** and by extension **A1**) and assumes good faith without gross negligence (supporting **B3** and thus **A2**), leading to the conclusion that there should be no liability for the damages incurred, aligning with **R1**.\n",
      "None\n"
     ]
    }
   ],
   "source": [
    "\n",
    "# from duong.gen_angelic_st import GenAngelic\n",
    "from minh.deepseek import chat\n",
    "\n",
    "\n",
    "\n",
    "# chat = GenAngelic().init()\n",
    "class Answerer:\n",
    "    def __init__(self, debug=False):\n",
    "        self.debug = debug\n",
    "\n",
    "    def answer(self, article, query):\n",
    "        reply = chat(article, query)\n",
    "        if self.debug:\n",
    "            print(\"======== Generate Angelic structure and Query Entailment: ========\\n\", reply)\n",
    "\n",
    "text = \"\"\n",
    "with open(\"./test.txt\", \"r\") as f:\n",
    "    text = \"\".join(f.readlines())\n",
    "answerer = Answerer(debug=True)\n",
    "answer = answerer.answer(text, \"In cases where an individual rescues another person from getting hit by a car by pushing that person out of the way, causing the person's luxury kimono to get dirty, the rescuer does not have to compensate damages for the kimono.\")\n",
    "print(answer)\n"
   ]
  },
  {
   "cell_type": "code",
   "execution_count": 4,
   "metadata": {},
   "outputs": [
    {
     "name": "stdout",
     "output_type": "stream",
     "text": [
      "======= Fact Extractor step ========\n",
      "\n",
      "Facts:\n",
      " link(support(node(afactor(1)),node(root(1)))).link(support(node(afactor(2)),node(root(1)))).link(support(node(bfactor(1)),node(afactor(1)))).link(support(node(bfactor(2)),node(afactor(1)))).link(support(node(bfactor(3)),node(afactor(2)))).entail(query, node(bfactor(2))).entail(query, node(bfactor(3))).agree(query, node(root(1))).\n",
      "\n",
      "\n",
      "True\n"
     ]
    }
   ],
   "source": [
    "from extractor.extractor import MDAExtractor\n",
    "# from duong.gen_angelic_st import GenAngelic\n",
    "from reasoner.reasoner import Reasoner\n",
    "import dspy\n",
    "\n",
    "# chat = GenAngelic().init()\n",
    "class Answerer:\n",
    "    def __init__(self, reply, debug=False):\n",
    "        self.extractor = MDAExtractor()\n",
    "        self.reasoner = Reasoner()\n",
    "        self.debug = debug\n",
    "        self.reply = reply\n",
    "\n",
    "    def answer(self, article, query):\n",
    "        facts = self.extractor.forward(text=self.reply)\n",
    "        if self.debug:\n",
    "            print(\"======= Fact Extractor step ========\\n\")\n",
    "            print(\"Facts:\\n\", facts)\n",
    "            print(\"\\n\")\n",
    "        # theory_2\n",
    "        return self.reasoner.reason(facts)\n",
    "\n",
    "\n",
    "\n",
    "dspy.settings.configure(\n",
    "    lm=dspy.LM(\n",
    "        model=\"ollama_chat/llama3.3\",  # Changed to include provider prefix\n",
    "        api_base=\"http://localhost:11435\",\n",
    "        max_tokens=20000,\n",
    "    )\n",
    ")\n",
    "text = \"\"\n",
    "reply = \"\"\n",
    "with open(\"./test_reply.txt\", \"r\") as f:\n",
    "    reply = \"\".join(f.readlines())\n",
    "answerer = Answerer(reply=reply, debug=True)\n",
    "\n",
    "answer = answerer.answer(text, \"In cases where an individual rescues another person from getting hit by a car by pushing that person out of the way, causing the person's luxury kimono to get dirty, the rescuer does not have to compensate damages for the kimono.\")\n",
    "print(answer)\n"
   ]
  },
  {
   "cell_type": "markdown",
   "metadata": {},
   "source": []
  }
 ],
 "metadata": {
  "kernelspec": {
   "display_name": "coliee2025",
   "language": "python",
   "name": "python3"
  },
  "language_info": {
   "codemirror_mode": {
    "name": "ipython",
    "version": 3
   },
   "file_extension": ".py",
   "mimetype": "text/x-python",
   "name": "python",
   "nbconvert_exporter": "python",
   "pygments_lexer": "ipython3",
   "version": "3.10.16"
  }
 },
 "nbformat": 4,
 "nbformat_minor": 2
}
