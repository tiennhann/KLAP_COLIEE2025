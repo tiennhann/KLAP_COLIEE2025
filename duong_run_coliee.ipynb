{
 "cells": [
  {
   "cell_type": "code",
   "execution_count": 2,
   "metadata": {},
   "outputs": [
    {
     "ename": "ImportError",
     "evalue": "cannot import name 'GenAngelic' from 'duong.gen_angelic_st' (/Users/duong/Documents/Project/COLIEE2025/KLAP_COLIEE2025/duong/gen_angelic_st.py)",
     "output_type": "error",
     "traceback": [
      "\u001b[0;31m---------------------------------------------------------------------------\u001b[0m",
      "\u001b[0;31mImportError\u001b[0m                               Traceback (most recent call last)",
      "Cell \u001b[0;32mIn[2], line 2\u001b[0m\n\u001b[1;32m      1\u001b[0m \u001b[38;5;28;01mfrom\u001b[39;00m\u001b[38;5;250m \u001b[39m\u001b[38;5;21;01mextractor\u001b[39;00m\u001b[38;5;21;01m.\u001b[39;00m\u001b[38;5;21;01mextractor\u001b[39;00m\u001b[38;5;250m \u001b[39m\u001b[38;5;28;01mimport\u001b[39;00m MDAExtractor\n\u001b[0;32m----> 2\u001b[0m \u001b[38;5;28;01mfrom\u001b[39;00m\u001b[38;5;250m \u001b[39m\u001b[38;5;21;01mduong\u001b[39;00m\u001b[38;5;21;01m.\u001b[39;00m\u001b[38;5;21;01mgen_angelic_st\u001b[39;00m\u001b[38;5;250m \u001b[39m\u001b[38;5;28;01mimport\u001b[39;00m GenAngelic\n\u001b[1;32m      3\u001b[0m \u001b[38;5;28;01mfrom\u001b[39;00m\u001b[38;5;250m \u001b[39m\u001b[38;5;21;01mreasoner\u001b[39;00m\u001b[38;5;21;01m.\u001b[39;00m\u001b[38;5;21;01mreasoner\u001b[39;00m\u001b[38;5;250m \u001b[39m\u001b[38;5;28;01mimport\u001b[39;00m Reasoner\n\u001b[1;32m      4\u001b[0m \u001b[38;5;28;01mimport\u001b[39;00m\u001b[38;5;250m \u001b[39m\u001b[38;5;21;01mdspy\u001b[39;00m\n",
      "\u001b[0;31mImportError\u001b[0m: cannot import name 'GenAngelic' from 'duong.gen_angelic_st' (/Users/duong/Documents/Project/COLIEE2025/KLAP_COLIEE2025/duong/gen_angelic_st.py)"
     ]
    }
   ],
   "source": [
    "from extractor.extractor import MDAExtractor\n",
    "from duong.gen_angelic_st import GenAngelic\n",
    "from reasoner.reasoner import Reasoner\n",
    "import dspy\n",
    "\n",
    "chat = GenAngelic().init()\n",
    "class Answerer:\n",
    "    def __init__(self, debug=False):\n",
    "        self.extractor = MDAExtractor()\n",
    "        self.reasoner = Reasoner()\n",
    "        self.debug = debug\n",
    "\n",
    "    def answer(self, article, query):\n",
    "        reply = chat.chat(article, query)\n",
    "        if self.debug:\n",
    "            print(\"Deepseek step\", reply)\n",
    "        facts = self.extractor.forward(text=reply)\n",
    "        if self.debug:\n",
    "            print(\"Extractor step\", facts)\n",
    "        # theory_2\n",
    "        return self.reasoner.reason(facts)\n",
    "\n",
    "\n",
    "\n",
    "dspy.settings.configure(\n",
    "    lm=dspy.LM(\n",
    "        model=\"ollama_chat/llama3:8b\",  # Changed to include provider prefix\n",
    "        api_base=\"http://localhost:11434\",\n",
    "        max_tokens=20000,\n",
    "    )\n",
    ")\n",
    "text = \"\"\n",
    "with open(\"./test.txt\", \"r\") as f:\n",
    "    text = \"\".join(f.readlines())\n",
    "answerer = Answerer(debug=True)\n",
    "answer = answerer.answer(text, \"If a person under curatorship performs, without getting the consent, an act that requires  getting consent from his/her curator, the curator may ratify that act, but may not rescind that act\")\n",
    "print(answer)\n"
   ]
  }
 ],
 "metadata": {
  "kernelspec": {
   "display_name": "coliee2025",
   "language": "python",
   "name": "python3"
  },
  "language_info": {
   "codemirror_mode": {
    "name": "ipython",
    "version": 3
   },
   "file_extension": ".py",
   "mimetype": "text/x-python",
   "name": "python",
   "nbconvert_exporter": "python",
   "pygments_lexer": "ipython3",
   "version": "3.10.16"
  }
 },
 "nbformat": 4,
 "nbformat_minor": 2
}
